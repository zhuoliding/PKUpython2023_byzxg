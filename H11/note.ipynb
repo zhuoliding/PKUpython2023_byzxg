{
 "cells": [
  {
   "cell_type": "markdown",
   "metadata": {},
   "source": [
    "# 第四章：快速排序    \n",
    "## 4.1分而治之  \n",
    "1. 找到基线条件  \n",
    "2. 利用自相似等性质，不断将问题缩小规模  \n",
    "例子：划分正方形网格，二分查找  \n",
    "\n",
    "## 4.2快速排序\n",
    "1. 选择基准值\n",
    "2. 将数组分成两个子数组：小于基准值的元素和大于基准值的元素\n",
    "3. 对这两个子数组进行快速排序\n"
   ]
  },
  {
   "cell_type": "code",
   "execution_count": 1,
   "metadata": {},
   "outputs": [
    {
     "name": "stdout",
     "output_type": "stream",
     "text": [
      "[2, 3, 5, 10]\n"
     ]
    }
   ],
   "source": [
    "def quicksort(array):\n",
    "    if len(array) < 2:\n",
    "        return array\n",
    "    else:\n",
    "        pivot = array[0]\n",
    "        less = [i for i in array[1:] if i <= pivot]\n",
    "        greater = [i for i in array[1:] if i > pivot]\n",
    "        return quicksort(less) + [pivot] +quicksort(greater)\n",
    "print(quicksort([10,5,2,3]))"
   ]
  },
  {
   "cell_type": "markdown",
   "metadata": {},
   "source": [
    "##  4.3大O表示法   \n",
    "### 快速排序：O(nlogn)  \n",
    "二分查找：O(logn)   \n",
    "### 运行时间 = c * n   \n",
    "c 为运行一次的常量 ， n 为复杂度   \n",
    "当n 不同时，比较n   ;   当n相同时，比较c   \n",
    "### 最好情况，最坏情况，平均情况   \n",
    "O(nlogn),O(n^2),O(nlogn)\n"
   ]
  },
  {
   "cell_type": "markdown",
   "metadata": {},
   "source": [
    "# 第五章 散列表\n",
    "快速对应\n",
    "## 5.1散列函数\n",
    "将数据映射到数字\n",
    "用途：创建散列表\n",
    "1. 创建空数组\n",
    "2. 数据映射到数字，在空数组中该数字索引处存储取值\n",
    "\n",
    "输入 ——> 数字（索引） ——> 元组中取值\n",
    "\n",
    "python中的散列表：字典"
   ]
  },
  {
   "cell_type": "code",
   "execution_count": 2,
   "metadata": {},
   "outputs": [
    {
     "name": "stdout",
     "output_type": "stream",
     "text": [
      "{'apple': 0.67, 'molk': 1.49, 'avocado': 1.49}\n",
      "1.49\n"
     ]
    }
   ],
   "source": [
    "book = dict()\n",
    "book[\"apple\"] = 0.67\n",
    "book[\"molk\"] = 1.49\n",
    "book['avocado'] = 1.49\n",
    "print(book)\n",
    "print(book['avocado'])"
   ]
  },
  {
   "cell_type": "markdown",
   "metadata": {},
   "source": [
    "## 5.2应用案例\n",
    "### 将散列表用于查找\n",
    "例子：DNS解析\n",
    "adit.io ——> 173.255.248.55"
   ]
  },
  {
   "cell_type": "code",
   "execution_count": 3,
   "metadata": {},
   "outputs": [
    {
     "name": "stdout",
     "output_type": "stream",
     "text": [
      "8675309\n"
     ]
    }
   ],
   "source": [
    "phone_book = {}\n",
    "phone_book['jenny'] = 8675309\n",
    "phone_book['emergency'] = 911\n",
    "print(phone_book['jenny'])"
   ]
  },
  {
   "cell_type": "markdown",
   "metadata": {},
   "source": [
    "### 防止重复\n",
    "例子：投票，确认某人是否投过票\n",
    "dict.get(key)\n",
    "存储在列表中：慢\n",
    "存储在散列表中：快"
   ]
  },
  {
   "cell_type": "code",
   "execution_count": 4,
   "metadata": {},
   "outputs": [],
   "source": [
    "voted = {}\n",
    "def check_voter(name):\n",
    "    if voted.get(name):\n",
    "        print('kivk them out!')\n",
    "    else:\n",
    "        voted[name] = True\n",
    "        print('let them vote!')"
   ]
  },
  {
   "cell_type": "markdown",
   "metadata": {},
   "source": [
    "### 将散列表用作缓存\n",
    "网站缓存，使用户可以更快看到网页"
   ]
  },
  {
   "cell_type": "code",
   "execution_count": 5,
   "metadata": {},
   "outputs": [],
   "source": [
    "cache = {}\n",
    "\n",
    "def get_page(url):\n",
    "    if cache.get(url):\n",
    "        return cache[url]\n",
    "    else:\n",
    "        data = get_data_from_server(url)\n",
    "        cache[url] = data\n",
    "        return data"
   ]
  },
  {
   "cell_type": "markdown",
   "metadata": {},
   "source": [
    "## 5.3冲突   \n",
    "散列函数：将不同的键映射到数组的不同位置   \n",
    "几乎不肯能找到这样的散列函数   \n",
    "例子：散列函数按字母表分配数组的位置，当出现相同首字母时，会冲突，所以需要在此位置存储一个列表。\n",
    "#### 结论：\n",
    "1. 散列函数很重要，理想情况下散列函数将键均匀地映射到散列表的不同位置\n",
    "2. 散列表存储的列表很长，速度会急剧下降\n",
    "\n",
    "## 5.4性能\n",
    "平均时间：O(1)常量时间   \n",
    "最糟情况：O(n)   \n",
    "线性查找：O(n)   \n",
    "二分查找：O(logn)      \n",
    "\n",
    "避免冲突：   \n",
    "1. 较低的填装因子   \n",
    "2. 2.良好的散列函数    \n",
    "\n",
    "### 5.4.1填装因子\n",
    "散列表包含的元素数/位置总数   \n",
    "填装因子低，列表少，查找速度快。   \n",
    "若填装因子较大，需要在散列表中添加位置，称为‘调整长度’    \n",
    "一个不错的经验规则是：一旦填装因子大于0.7，就调整散列表的长度。   \n",
    "### 5.4.2良好的散列函数\n",
    "SHA函数\n",
    "\n",
    "## 5.5 小结\n",
    "1. 你可以结合散列函数和数组来创建散列表。\n",
    "2. 冲突很糟糕，你应使用可以最大限度减少冲突的散列函数。\n",
    "3. 散列表的查找、插入和删除速度都非常快。\n",
    "4. 散列表适合用于模拟映射关系。\n",
    "5. 一旦填装因子超过0.7，就该调整散列表的长度。\n",
    "6. 散列表可用于缓存数据（例如，在Web服务器上）。\n",
    "7. 散列表非常适合用于防止重复\n",
    "\n",
    "\n"
   ]
  },
  {
   "cell_type": "markdown",
   "metadata": {},
   "source": [
    "# 第六章 广度优先搜索\n",
    "## 6.1 图简介\n",
    "节点+边\n",
    "## 6.2 图是什么\n",
    "## 6.3 广度优先搜索\n",
    "1. 从节点A出发，有前往节点B的路径吗\n",
    "2. 从节点A出发，前往节点B的那条路径最短\n",
    "### 6.3.1查找最短路径\n",
    "先在一度关系中查找，再在二度关系中查找\n",
    "### 6.3.2队列\n",
    "队列有顺序，只能按顺序访问队列中元素\n",
    "#### 队列：先进先出\n",
    "#### 栈：后进先出\n",
    "## 6.4实现图\n",
    "散列表表示关系，用键和值表示连接关系。   \n",
    "添加顺序不重要   \n",
    "注意：有向图：关系单向\n",
    "无向图：可以看成双向的有向图\n",
    "## 6.5 实现算法\n",
    "1. 创建一个队列，存储要检查的人\n",
    "2. 队列中弹出一个人\n",
    "3. 检查这个人\n",
    "4. 如果是，成功，如果不是，将这个人的所有邻居加入队列\n",
    "5. 回到2\n",
    "6. 如果队列为空，说明没有"
   ]
  },
  {
   "cell_type": "code",
   "execution_count": 6,
   "metadata": {},
   "outputs": [
    {
     "name": "stdout",
     "output_type": "stream",
     "text": [
      "thom is a mango seller!\n"
     ]
    }
   ],
   "source": [
    "#表示图\n",
    "graph = {}\n",
    "graph['you'] = ['alice','bob','claire']\n",
    "graph['bob'] = ['anuj','peggy']\n",
    "graph['alice'] = ['peggy']\n",
    "graph['claire'] = ['thom','jonny']\n",
    "graph['anuj'] = []\n",
    "graph['peggy'] = []\n",
    "graph['thom'] = []\n",
    "graph['jonny'] = []\n",
    "#创建队列\n",
    "from collections import deque\n",
    "search_queue = deque()\n",
    "search_queue += graph['you']\n",
    "#搜索\n",
    "def person_is_seller(name):\n",
    "    return name[-1] == 'm'\n",
    "while search_queue:\n",
    "    person = search_queue.popleft()\n",
    "    if person_is_seller(person):\n",
    "        print(person,'is a mango seller!')\n",
    "    else:\n",
    "        search_queue += graph[person]"
   ]
  },
  {
   "cell_type": "markdown",
   "metadata": {},
   "source": [
    "为了不使程序陷入无限循环    \n",
    "检查一个人之前，要确认之前没检查过他，可以使用一个列表来记录检查过的人  "
   ]
  },
  {
   "cell_type": "code",
   "execution_count": 7,
   "metadata": {},
   "outputs": [
    {
     "name": "stdout",
     "output_type": "stream",
     "text": [
      "thom is a mango seller!\n"
     ]
    },
    {
     "data": {
      "text/plain": [
       "True"
      ]
     },
     "execution_count": 7,
     "metadata": {},
     "output_type": "execute_result"
    }
   ],
   "source": [
    "graph = {}\n",
    "graph['you'] = ['alice','bob','claire']\n",
    "graph['bob'] = ['anuj','peggy']\n",
    "graph['alice'] = ['peggy']\n",
    "graph['claire'] = ['thom','jonny']\n",
    "graph['anuj'] = []\n",
    "graph['peggy'] = []\n",
    "graph['thom'] = []\n",
    "graph['jonny'] = []\n",
    "\n",
    "search_queue = deque()\n",
    "search_queue += graph['you']\n",
    "\n",
    "\n",
    "def search(name):\n",
    "    search_queue = deque()\n",
    "    search_queue += graph[name]\n",
    "    searched = []\n",
    "    while search_queue:\n",
    "        person = search_queue.popleft()\n",
    "        if person not in searched:\n",
    "            if person_is_seller(person):\n",
    "                print(person,'is a mango seller!')\n",
    "                return True\n",
    "            else:\n",
    "                search_queue += graph[person]\n",
    "                searched.append(person)\n",
    "    return False\n",
    "\n",
    "search('you')\n"
   ]
  },
  {
   "cell_type": "markdown",
   "metadata": {},
   "source": [
    "### 运行时间\n",
    "搜索：沿着每条边前行    O(边数)\n",
    "队列：包含要检查的每个人    O（人数）\n",
    "\n",
    "#### 广度优先搜索的运行时间：O(V+E)\n",
    "\n",
    "## 6.6 小结\n",
    "1. 广度优先搜索找出可行且最短路径\n",
    "2. 使用图来建立模型，再使用广度优先搜索来解决问题\n",
    "3. 区分无向图和有向图\n",
    "4. 队列：先进先出\n",
    "5. 栈：后进先出\n",
    "6. 搜索列表必须是队列\n",
    "7. 对于检查过的人，不要再去检查，否则可能导致无限循环\n",
    "\n",
    "\n"
   ]
  },
  {
   "cell_type": "markdown",
   "metadata": {},
   "source": [
    "# 第七章 狄克斯特拉算法\n",
    "加权图：每条边赋一个数值    \n",
    "图中的环    \n",
    "## 7.1 使用狄克斯特拉算法\n",
    "1. 找出最便宜的节点，即可在最短时间内到达的节点\n",
    "2. 更新该节点的邻居的开销\n",
    "3. 重复这个过程，直到对图中的每个节点都做了\n",
    "4. 计算最终路径\n",
    "\n",
    "## 7.2 术语\n",
    "加权图，非加权图  \n",
    "#### 算法只适用于有向无环图\n",
    "\n",
    "## 7.3 换钢琴\n",
    "让某种度量指标最小\n",
    "## 7.4 负权边\n",
    "如果有负权边，不能使永狄克斯特拉算法。\n",
    "可以使用贝尔曼-福德算法\n",
    "## 7.5 实现\n",
    "\n"
   ]
  },
  {
   "cell_type": "code",
   "execution_count": 8,
   "metadata": {},
   "outputs": [
    {
     "ename": "KeyboardInterrupt",
     "evalue": "",
     "output_type": "error",
     "traceback": [
      "\u001b[1;31m---------------------------------------------------------------------------\u001b[0m",
      "\u001b[1;31mKeyboardInterrupt\u001b[0m                         Traceback (most recent call last)",
      "\u001b[1;32md:\\课程\\计算概论（B）\\张行功\\书\\算法图解练习\\note.ipynb Cell 19\u001b[0m line \u001b[0;36m3\n\u001b[0;32m     <a href='vscode-notebook-cell:/d%3A/%E8%AF%BE%E7%A8%8B/%E8%AE%A1%E7%AE%97%E6%A6%82%E8%AE%BA%EF%BC%88B%EF%BC%89/%E5%BC%A0%E8%A1%8C%E5%8A%9F/%E4%B9%A6/%E7%AE%97%E6%B3%95%E5%9B%BE%E8%A7%A3%E7%BB%83%E4%B9%A0/note.ipynb#X24sZmlsZQ%3D%3D?line=29'>30</a>\u001b[0m     \u001b[39mreturn\u001b[39;00m lowest_cost_node\n\u001b[0;32m     <a href='vscode-notebook-cell:/d%3A/%E8%AF%BE%E7%A8%8B/%E8%AE%A1%E7%AE%97%E6%A6%82%E8%AE%BA%EF%BC%88B%EF%BC%89/%E5%BC%A0%E8%A1%8C%E5%8A%9F/%E4%B9%A6/%E7%AE%97%E6%B3%95%E5%9B%BE%E8%A7%A3%E7%BB%83%E4%B9%A0/note.ipynb#X24sZmlsZQ%3D%3D?line=31'>32</a>\u001b[0m node \u001b[39m=\u001b[39m find_lowest_cost_node(costs)\n\u001b[1;32m---> <a href='vscode-notebook-cell:/d%3A/%E8%AF%BE%E7%A8%8B/%E8%AE%A1%E7%AE%97%E6%A6%82%E8%AE%BA%EF%BC%88B%EF%BC%89/%E5%BC%A0%E8%A1%8C%E5%8A%9F/%E4%B9%A6/%E7%AE%97%E6%B3%95%E5%9B%BE%E8%A7%A3%E7%BB%83%E4%B9%A0/note.ipynb#X24sZmlsZQ%3D%3D?line=32'>33</a>\u001b[0m \u001b[39mwhile\u001b[39;00m node \u001b[39m!=\u001b[39m \u001b[39m'\u001b[39m\u001b[39mNone\u001b[39m\u001b[39m'\u001b[39m:\n\u001b[0;32m     <a href='vscode-notebook-cell:/d%3A/%E8%AF%BE%E7%A8%8B/%E8%AE%A1%E7%AE%97%E6%A6%82%E8%AE%BA%EF%BC%88B%EF%BC%89/%E5%BC%A0%E8%A1%8C%E5%8A%9F/%E4%B9%A6/%E7%AE%97%E6%B3%95%E5%9B%BE%E8%A7%A3%E7%BB%83%E4%B9%A0/note.ipynb#X24sZmlsZQ%3D%3D?line=33'>34</a>\u001b[0m     cost \u001b[39m=\u001b[39m costs[node]\n\u001b[0;32m     <a href='vscode-notebook-cell:/d%3A/%E8%AF%BE%E7%A8%8B/%E8%AE%A1%E7%AE%97%E6%A6%82%E8%AE%BA%EF%BC%88B%EF%BC%89/%E5%BC%A0%E8%A1%8C%E5%8A%9F/%E4%B9%A6/%E7%AE%97%E6%B3%95%E5%9B%BE%E8%A7%A3%E7%BB%83%E4%B9%A0/note.ipynb#X24sZmlsZQ%3D%3D?line=34'>35</a>\u001b[0m     neighbors \u001b[39m=\u001b[39m graph[node]\n",
      "\u001b[1;31mKeyboardInterrupt\u001b[0m: "
     ]
    }
   ],
   "source": [
    "graph = {}\n",
    "graph['start'] = {}\n",
    "graph['start']['a'] = 6\n",
    "graph['start']['b'] = 2\n",
    "graph['a'] = {}\n",
    "graph['a']['fin'] = 1\n",
    "graph['b'] = {}\n",
    "graph['b']['a'] = 3\n",
    "graph['b']['fin'] = 5\n",
    "graph['fin'] = {}\n",
    "infinity = float('inf')\n",
    "costs = {}\n",
    "costs['a'] = 6\n",
    "costs['b'] = 2\n",
    "costs['fin'] = infinity\n",
    "parents = {}\n",
    "parents['a'] = 'start'\n",
    "parents['b'] = 'start'\n",
    "parents['fin'] = None\n",
    "processed = []\n",
    "\n",
    "def find_lowest_cost_node(costs):\n",
    "    lowest_cost = float('inf')\n",
    "    lowest_cost_node = None\n",
    "    for node in costs:\n",
    "        cost = costs[node]\n",
    "        if cost < lowest_cost and node not in processed:\n",
    "            lowest_cost = cost\n",
    "            lowest_cost_node = node\n",
    "    return lowest_cost_node\n",
    "\n",
    "node = find_lowest_cost_node(costs)\n",
    "while node != 'None':\n",
    "    cost = costs[node]\n",
    "    neighbors = graph[node]\n",
    "    for n in neighbors.keys():\n",
    "        new_cost = cost + neighbors[n]\n",
    "        if costs[n] > new_cost:\n",
    "            costs[n] = new_cost\n",
    "            parents[n] = node\n",
    "            processed.append(node)\n",
    "            node = find_lowest_cost_node(costs)\n",
    "print(costs['fin'])\n",
    "\n",
    "\n",
    "\n",
    "\n"
   ]
  },
  {
   "cell_type": "markdown",
   "metadata": {},
   "source": [
    "# 第8章 贪婪算法\n",
    "处理没有快速算法的问题：NP完全问题\n",
    "## 8.1 教室调度问题\n",
    "每步都采用最优的算法，局部最优解\n",
    "## 8.2 背包问题\n",
    "得到一个大致解决问题的算法，与正确结果接近\n",
    "## 8.3 集合覆盖问题\n",
    "近似算法：\n",
    "1. 选出一个广播台，覆盖最多的未覆盖州\n",
    "2. 重复第一步，直到覆盖所有州\n",
    "\n"
   ]
  },
  {
   "cell_type": "code",
   "execution_count": null,
   "metadata": {},
   "outputs": [
    {
     "name": "stdout",
     "output_type": "stream",
     "text": [
      "{'kthree', 'kfive', 'ktwo', 'kone'}\n"
     ]
    }
   ],
   "source": [
    "#传入一个列表，被转化成集合\n",
    "states_needed = set(['mt','wa','or','id','nv','ut','ca','az'])\n",
    "#用散列表来表示清单\n",
    "stations = {}\n",
    "stations['kone'] = set(['id','nv','ut'])\n",
    "stations['ktwo'] = set(['wa','id','mt'])\n",
    "stations['kthree'] = set(['or','nv','ca'])\n",
    "stations['kfour'] = set(['nv','ut'])\n",
    "stations['kfive'] = set(['ca','az'])\n",
    "final_stations = set()\n",
    "while states_needed:\n",
    "    best_station = None\n",
    "    states_covered = set()\n",
    "    for station,states_for_station in stations.items():\n",
    "        covered = states_needed & states_for_station\n",
    "        if len(covered) > len(states_covered):\n",
    "            best_station = station\n",
    "            states_covered = covered\n",
    "    states_needed -= states_covered\n",
    "    final_stations.add(best_station)\n",
    "\n",
    "print(final_stations)\n",
    "        \n",
    "\n",
    "\n"
   ]
  },
  {
   "cell_type": "markdown",
   "metadata": {},
   "source": [
    "## 8.4 NP完全问题\n",
    "### 8.4.1 旅行商问题详解\n",
    "旅行商前往五个不同城市，最短路径   \n",
    "考虑往返路程不同，不固定起终点  \n",
    "1. 2个城市：2\n",
    "2. 3个城市：6\n",
    "3. 4个城市：4*6\n",
    "4. n个城市：n!\n",
    "\n",
    "需要计算所有解，并从中选出最小/最短的那个：NP完全问题\n",
    "\n",
    "### 8.4.2 如何识别NP完全问题\n",
    "1. 元素较少时算法的运行速度非常快，但随着元素数量的增加，速度会变得非常慢\n",
    "2. 涉及所有组合的问题\n",
    "3. 不能将问题分为小问题，必须考虑各种可能的情况\n",
    "4. 涉及序列且难以解决\n",
    "5. 涉及集合且难以解决\n",
    "6. 问题可转换为集合覆盖问题或旅行商问题\n",
    "\n",
    "## 8.5 小结\n",
    "1. 贪婪算法寻找局部最优解\n",
    "2. NP完全问题，无快速解决算法\n",
    "3. 贪婪算法是不错的近似算法\n",
    "\n",
    "\n"
   ]
  },
  {
   "cell_type": "markdown",
   "metadata": {},
   "source": [
    "# 第九章 动态规划\n",
    "## 9.1 背包问题\n",
    "### 9.1.1 简单算法\n",
    "枚举，O(2^n)\n",
    "### 9.1.2 动态规划\n",
    "画网格，从小到大解决问题\n",
    "## 9.2 背包问题FAQ\n",
    "### 9.2.1再增加一件商品\n",
    "### 9.2.2行的排列顺序发生变化\n",
    "没有变化\n",
    "### 9.2.3可以逐列而不是逐行填充网格吗？\n",
    "### 9.2.4增加一件更小的商品如何\n",
    "### 9.2 5可以偷商品的一部分吗\n",
    "### 9.2.6 旅游行程最优化\n",
    "### 9.2.7 处理相互依赖的情况\n",
    "要求每个子问题离散\n",
    "### 9.2.8 会涉及两个以上的子背包吗\n",
    "### 9.2.9 最优解可能导致背包没装满吗？\n",
    "\n",
    "\n",
    "\n"
   ]
  },
  {
   "cell_type": "markdown",
   "metadata": {},
   "source": [
    "## 9.3 最长公共子串\n",
    "1. 动态规划可在给定约束条件下找到最优解\n",
    "2. 问题可分解为彼此独立且离散的子问题时，可使用动态规划\n",
    "\n",
    "#### 设计动态规划解决方案\n",
    "1. 每种动态规划都涉及网格\n",
    "2. 单元中的值通常是你要优化的值\n",
    "3. 每个单元格都是一个子问题，应考虑如何将问题分为子问题，这有助于找到坐标轴\n",
    "\n",
    "### 9.3.1 绘制网格\n",
    "问题：\n",
    "1. 单元格中的值\n",
    "2. 如何将这个问题划分为子问题\n",
    "3. 网格的坐标轴\n",
    "### 9.3.2填充网格\n",
    "#### Feynman algorithm\n",
    "1. 把问题写下来\n",
    "2. 好好思考\n",
    "3. 将答案写下来\n",
    "\n",
    "### 9.3.3揭晓答案\n",
    "查找单词\n",
    "if word_a[i] == word_b[j]:\n",
    "    cell[i][j] = cell[i-1][j-1] + 1\n",
    "else:\n",
    "    cell[i][j] = 0\n",
    "\n",
    "答案为网格中的最大数字\n",
    "### 9.3.4 最长公共子序列\n",
    "if word_a[i] == word_b[j]:\n",
    "    cell[i][j] = cell[i-1][j-1] + 1\n",
    "else:\n",
    "    xell[i][j] = max(cell[i-1][j], cell[i][j-1])\n",
    "\n",
    "## 9.4 小结\n",
    "1. 需要在给定约束条件下优化某种指标时，动态规划很有用\n",
    "2. 问题可分解为离散子问题\n",
    "3. 涉及网格\n",
    "4. 单元格中的值是你要优化的值\n",
    "5. 每个单元格都是一个子问题，需要考虑如何将问题分解为子问题\n",
    "6. 没有普遍的计算动态规划的公式"
   ]
  },
  {
   "cell_type": "markdown",
   "metadata": {},
   "source": [
    "# 第10章 K最近邻算法\n",
    "## 10.1 橙子还是柚子\n",
    "判断：找最近邻的几个邻居\n",
    "## 10.2 创建推荐系统\n",
    "找到相邻用户，推荐相邻用户喜欢的内容\n",
    "### 10.2.1特征抽取\n",
    "抽取特征，根据特征绘图，计算两点距离\n",
    "### 10.2.2 回归\n",
    "1. 分类就是编组\n",
    "2. 回归就是预测结果\n",
    "\n",
    "度量距离有时使用余弦相似度\n",
    "### 10.2.3 挑选合适的特征\n",
    "1. 要与推荐的电影紧密相连的特征\n",
    "2. 不偏不倚的特征\n",
    "\n",
    "## 10.3机器学习简介\n",
    "### 10.3.1 OCR\n",
    "### 10.3.2 创建垃圾邮件过滤器\n",
    "Naive Bayes classifier\n",
    "### 10.3.3 预测股票市场\n",
    "## 10.4 小结\n",
    "1. KNN 用于分类和回归，需要考虑最近的邻居\n",
    "2. 分类就是编组\n",
    "3. 回归就是预测结果\n",
    "4. 特征抽取意味着将物品转换为一系列可以比较的数字\n",
    "5. 挑选合适的特征\n",
    "\n"
   ]
  },
  {
   "cell_type": "markdown",
   "metadata": {},
   "source": [
    "# 第11章 接下来如何做\n",
    "## 11.1树\n",
    "将新用户插入数组，并重新排序  \n",
    "二叉查找树 binary search tree  \n",
    "查找：  \n",
    "平均时间：O(log n)  \n",
    "最糟情况：O(n)  \n",
    "插入/删除：O(log n) ——> 比列表要快  \n",
    "\n",
    "缺点：不能随机访问  \n",
    "平衡的数性能好\n",
    "## 11.2 反向索引\n",
    "将单词映射到它的界面，常用于创建搜索引擎\n",
    "## 11.3 傅里叶变换\n",
    "## 11.4 并行算法\n",
    "使用多个内核\n",
    "## 11.5 MapReduce\n",
    "分布式算法\n",
    "### 11.5.2 map\n",
    "arr1 = [1,2,3,4,5]\n",
    "arr2 = map(lambda x: 2*x,arr1)\n",
    "### 11.4.3 reduce\n",
    "reduce(lambda x,y: x+y, arr1)\n",
    "\n",
    "## 11.6布隆过滤器和HyperLogLog\n",
    "### 11.6.1 布隆过滤器\n",
    "概率型数据结构，可能错报，不可能误报\n",
    "### 11.6.2 HyperLogLog\n",
    "概率型算法\n",
    "## 11.7 SHA算法\n",
    "### 11.7.1 比较文件\n",
    "secure hash algorithm 安全散列算法\n",
    "由SHA生成散列值进行比较\n",
    "### 11.7.2 检查密码\n",
    "算法具有单向性，可以根据字符串计算散列值，但无法根据散列值推断原始字符串\n",
    "### 11.8 局部敏感的散列算法\n",
    "Simhash  检查两项内容的相似程度\n",
    "## 11.9 Diffie-Hellman密钥交换\n",
    "1. 双方无需知道加密算法，不必会面协商\n",
    "2. 破解加密算法很难\n",
    "\n",
    "## 11.10 线性规划"
   ]
  }
 ],
 "metadata": {
  "kernelspec": {
   "display_name": "Python 3 (ipykernel)",
   "language": "python",
   "name": "python3"
  },
  "language_info": {
   "codemirror_mode": {
    "name": "ipython",
    "version": 3
   },
   "file_extension": ".py",
   "mimetype": "text/x-python",
   "name": "python",
   "nbconvert_exporter": "python",
   "pygments_lexer": "ipython3",
   "version": "3.12.0"
  }
 },
 "nbformat": 4,
 "nbformat_minor": 2
}
